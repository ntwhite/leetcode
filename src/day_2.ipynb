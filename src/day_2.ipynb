{
 "cells": [
  {
   "cell_type": "markdown",
   "metadata": {},
   "source": [
    "Write an algorithm to determine if a number is \"happy\".\n",
    "\n",
    "A happy number is a number defined by the following process: Starting with any positive integer, replace the number by the sum of the squares of its digits, and repeat the process until the number equals 1 (where it will stay), or it loops endlessly in a cycle which does not include 1. Those numbers for which this process ends in 1 are happy numbers.\n",
    "\n",
    "Example: \n",
    "\n",
    "Input: 19\n",
    "Output: true\n",
    "Explanation: \n",
    "12 + 92 = 82\n",
    "82 + 22 = 68\n",
    "62 + 82 = 100\n",
    "12 + 02 + 02 = 1"
   ]
  },
  {
   "cell_type": "code",
   "execution_count": 64,
   "metadata": {},
   "outputs": [],
   "source": [
    "def happy3(num):\n",
    "\n",
    "        num_array = [int(i) for i in str(num)]\n",
    "\n",
    "        while sum(num_array) != 1:\n",
    "            num_array_sub = []\n",
    "\n",
    "            for i in num_array:\n",
    "                digit = i ** 2\n",
    "                num_array_sub.append(digit)\n",
    "\n",
    "            num_array_sub = sum(num_array_sub)\n",
    "            num_array = [int(i) for i in str(num_array_sub)]\n",
    "\n",
    "        return num_array"
   ]
  },
  {
   "cell_type": "code",
   "execution_count": 66,
   "metadata": {},
   "outputs": [
    {
     "data": {
      "text/plain": [
       "[1, 0, 0]"
      ]
     },
     "execution_count": 66,
     "metadata": {},
     "output_type": "execute_result"
    }
   ],
   "source": [
    "happy3(19)"
   ]
  },
  {
   "cell_type": "markdown",
   "metadata": {},
   "source": [
    "This took me much longer than i care to admit.I forgot to indent my 'return num_array' line correctly and was chasing an endless recursion bug for a while.\n",
    "\n",
    "Then i realized that my funtion is not returning \"True\" it is returning the array - which it needs to do based on the conditions I set  With the help of greater minds, I came to the following submission which was accepted"
   ]
  },
  {
   "cell_type": "code",
   "execution_count": 72,
   "metadata": {},
   "outputs": [],
   "source": [
    "def happy4(n):\n",
    "    visited = set()\n",
    "    while n != 1 and not n in visited:\n",
    "        #print(n)\n",
    "        visited.add(n)\n",
    "        #print(visited)\n",
    "        n = sum(map(lambda x:int(x)**2, str(n)))\n",
    "        #print(n)\n",
    "    return not n in visited"
   ]
  },
  {
   "cell_type": "code",
   "execution_count": 73,
   "metadata": {},
   "outputs": [
    {
     "data": {
      "text/plain": [
       "True"
      ]
     },
     "execution_count": 73,
     "metadata": {},
     "output_type": "execute_result"
    }
   ],
   "source": [
    "happy4(19)"
   ]
  }
 ],
 "metadata": {
  "kernelspec": {
   "display_name": "Python 3",
   "language": "python",
   "name": "python3"
  },
  "language_info": {
   "codemirror_mode": {
    "name": "ipython",
    "version": 3
   },
   "file_extension": ".py",
   "mimetype": "text/x-python",
   "name": "python",
   "nbconvert_exporter": "python",
   "pygments_lexer": "ipython3",
   "version": "3.7.1"
  }
 },
 "nbformat": 4,
 "nbformat_minor": 2
}
